{
 "cells": [
  {
   "cell_type": "code",
   "execution_count": 10,
   "metadata": {},
   "outputs": [
    {
     "name": "stdout",
     "output_type": "stream",
     "text": [
      "[1, 2, 3, 4, 5]\n",
      "[6, 7, 8, 9, 10]\n",
      "[11, 12, 13, 14, 15]\n",
      "[16, 17, 18, 19, 20]\n",
      "[21, 22, 23, 24, 25]\n"
     ]
    }
   ],
   "source": [
    "puzzle = []\n",
    "val = 1\n",
    "for i in range(5):\n",
    "    puzzle.append([])\n",
    "    for j in range(5):\n",
    "        puzzle[i].append(val)\n",
    "        val += 1\n",
    "for row in puzzle:\n",
    "    print(row)"
   ]
  },
  {
   "cell_type": "code",
   "execution_count": 14,
   "metadata": {},
   "outputs": [],
   "source": [
    "#Create a variable for each square on the board with T,F value for each domain number\n",
    "val = 1\n",
    "output = {}\n",
    "gridVariables = dict()\n",
    "for r in range(len(puzzle)):\n",
    "    for c in range(len(puzzle)):\n",
    "        for num in range(len(puzzle)):\n",
    "            gridVariables[(r,c),num] = val\n",
    "            output[val] = (r,c),num\n",
    "            val += 1"
   ]
  },
  {
   "cell_type": "code",
   "execution_count": 23,
   "metadata": {},
   "outputs": [
    {
     "name": "stdout",
     "output_type": "stream",
     "text": [
      "([0, 1], 0)\n"
     ]
    },
    {
     "data": {
      "text/plain": [
       "93"
      ]
     },
     "execution_count": 23,
     "metadata": {},
     "output_type": "execute_result"
    }
   ],
   "source": [
    "print(output[6])\n",
    "gridVariables[(3,3),2]"
   ]
  },
  {
   "cell_type": "code",
   "execution_count": 24,
   "metadata": {},
   "outputs": [],
   "source": [
    "a = (2,3)"
   ]
  },
  {
   "cell_type": "code",
   "execution_count": 26,
   "metadata": {},
   "outputs": [
    {
     "data": {
      "text/plain": [
       "2"
      ]
     },
     "execution_count": 26,
     "metadata": {},
     "output_type": "execute_result"
    }
   ],
   "source": [
    "a[0]"
   ]
  },
  {
   "cell_type": "code",
   "execution_count": 1,
   "metadata": {},
   "outputs": [],
   "source": [
    "def define_colors():\n",
    "\n",
    "    CBLACKBG  = '\\33[40m'\n",
    "    CREDBG    = '\\33[41m'\n",
    "    CGREENBG  = '\\33[42m'\n",
    "    CYELLOWBG = '\\33[43m'\n",
    "    CBLUEBG   = '\\33[44m'\n",
    "    CVIOLETBG = '\\33[45m'\n",
    "    CBEIGEBG  = '\\33[46m'\n",
    "    CWHITEBG  = '\\33[47m'\n",
    "\n",
    "    CGREYBG    = '\\33[100m'\n",
    "    CREDBG2    = '\\33[101m'\n",
    "    CGREENBG2  = '\\33[102m'\n",
    "    CYELLOWBG2 = '\\33[103m'\n",
    "    CBLUEBG2   = '\\33[104m'\n",
    "    CVIOLETBG2 = '\\33[105m'\n",
    "    CBEIGEBG2  = '\\33[106m'\n",
    "    CWHITEBG2  = '\\33[107m'\n",
    "\n",
    "    colors = []\n",
    "    colors.append(CBLACKBG)\n",
    "    colors.append(CREDBG)\n",
    "    colors.append(CGREENBG)\n",
    "    colors.append(CYELLOWBG)\n",
    "    colors.append(CBLUEBG)\n",
    "    colors.append(CVIOLETBG)\n",
    "    colors.append(CBEIGEBG)\n",
    "    colors.append(CWHITEBG)\n",
    "    colors.append(CGREYBG)\n",
    "    colors.append(CREDBG2)\n",
    "    colors.append(CGREENBG2)\n",
    "    colors.append(CYELLOWBG2)\n",
    "    colors.append(CBLUEBG2)\n",
    "    colors.append(CVIOLETBG2)\n",
    "    colors.append(CBEIGEBG2)\n",
    "    colors.append(CWHITEBG2)\n",
    "\n",
    "    return colors\n",
    "#End define_colors()\n",
    "\n",
    "colors = define_colors()"
   ]
  },
  {
   "cell_type": "code",
   "execution_count": 2,
   "metadata": {},
   "outputs": [
    {
     "name": "stdout",
     "output_type": "stream",
     "text": [
      "csv\n"
     ]
    }
   ],
   "source": [
    "fname1 = \"puzzle1.csv\"\n",
    "fname2 = \"puzzle2.txt\"\n",
    "\n",
    "f_type1 = fname1.split('.')[1]\n",
    "print(f_type1)"
   ]
  },
  {
   "cell_type": "code",
   "execution_count": 3,
   "metadata": {},
   "outputs": [
    {
     "name": "stdout",
     "output_type": "stream",
     "text": [
      "[1, 1, 1, 1, 1]\n",
      "[5, 2, 2, 2, 2]\n",
      "[5, 4, 3, 3, 3]\n",
      "[5, 4, 4, 4, 3]\n",
      "[5, 5, 5, 5, 5]\n"
     ]
    }
   ],
   "source": [
    "s = [ [1, 1, 1, 1, 1],\n",
    "[5, 2, 2, 2, 2],\n",
    "[5, 4, 3, 3, 3],\n",
    "[5, 4, 4, 4, 3],\n",
    "[5, 5, 5, 5, 5] ]\n",
    "\n",
    "for row in s:\n",
    "    print(row)"
   ]
  },
  {
   "cell_type": "code",
   "execution_count": 4,
   "metadata": {
    "scrolled": true
   },
   "outputs": [
    {
     "name": "stdout",
     "output_type": "stream",
     "text": [
      "\u001b[41m  \u001b[41m  \u001b[41m  \u001b[41m  \u001b[41m  \n",
      "\n",
      "\u001b[45m  \u001b[42m  \u001b[42m  \u001b[42m  \u001b[42m  \n",
      "\n",
      "\u001b[45m  \u001b[44m  \u001b[43m  \u001b[43m  \u001b[43m  \n",
      "\n",
      "\u001b[45m  \u001b[44m  \u001b[44m  \u001b[44m  \u001b[43m  \n",
      "\n",
      "\u001b[45m  \u001b[45m  \u001b[45m  \u001b[45m  \u001b[45m  \n",
      "\n",
      "\u001b[00m --- Color Key ---\n",
      "\u001b[41m 1  \u001b[42m 2  \u001b[43m 3  \u001b[44m 4  \u001b[45m 5  "
     ]
    }
   ],
   "source": [
    "max_num = 0\n",
    "for row in s:\n",
    "    for num in row:\n",
    "        print(colors[num],\" \",end='')\n",
    "        if num > max_num:\n",
    "            max_num = num\n",
    "    print('\\n')\n",
    "\n",
    "print('\\33[00m',\"--- Color Key ---\")\n",
    "for num in range(max_num):\n",
    "    print(colors[num+1],num+1,end='  ')"
   ]
  },
  {
   "cell_type": "code",
   "execution_count": 39,
   "metadata": {},
   "outputs": [
    {
     "data": {
      "text/plain": [
       "'abcd[8]'"
      ]
     },
     "execution_count": 39,
     "metadata": {},
     "output_type": "execute_result"
    }
   ],
   "source": [
    "#add integer to string\n",
    "a = \"abc\"\n",
    "num = 8\n",
    "b = \"abcd[%d]\" %num\n",
    "b"
   ]
  },
  {
   "cell_type": "code",
   "execution_count": 38,
   "metadata": {},
   "outputs": [
    {
     "data": {
      "text/plain": [
       "'[8]abcd[6]'"
      ]
     },
     "execution_count": 38,
     "metadata": {},
     "output_type": "execute_result"
    }
   ],
   "source": [
    "b = \"[%d]abcd[%d]\" %(num,6)\n",
    "b"
   ]
  },
  {
   "cell_type": "markdown",
   "metadata": {},
   "source": [
    "Automated Solving Implementation\n",
    "---"
   ]
  },
  {
   "cell_type": "code",
   "execution_count": 4,
   "metadata": {},
   "outputs": [],
   "source": [
    "from selenium import webdriver\n",
    "from selenium.webdriver import Chrome\n",
    "from selenium.webdriver.common.keys import Keys\n",
    "import selenium\n",
    "import time\n",
    "from selenium.webdriver.common.by import By"
   ]
  },
  {
   "cell_type": "code",
   "execution_count": 5,
   "metadata": {},
   "outputs": [],
   "source": [
    "driver = Chrome()"
   ]
  },
  {
   "cell_type": "code",
   "execution_count": 8,
   "metadata": {},
   "outputs": [],
   "source": [
    "driver = Chrome()\n",
    "\n",
    "numberlink_url = \"https://numberlinks.puzzlebaron.com\"\n",
    "\n",
    "driver.get(numberlink_url)\n",
    "driver.implicitly_wait(10)\n",
    "\n",
    "#Click play\n",
    "search = driver.find_element_by_xpath(\"//*[@id='nav']/div[2]/a\")\n",
    "search.click()\n",
    "driver.implicitly_wait(10)\n",
    "\n",
    "#Select puzzle size\n",
    "size_menu = driver.find_element_by_xpath(\"//*[@id='container_left']/form/table/tbody/tr/td[3]/div/select\") #open drop down menu\n",
    "size_menu.click()\n",
    "driver.implicitly_wait(10)\n",
    "puzzle_size_choice = 0 #9x9, 10x10, 11x11, 12x12, 13,13, 14,14, 15x15\n",
    "puzzle_len = [9,10,11,12,13,14,15]\n",
    "for i in range(puzzle_size_choice):\n",
    "    size_menu.send_keys(Keys.ARROW_DOWN)\n",
    "size_menu.send_keys(Keys.ENTER)\n",
    "driver.implicitly_wait(10)\n",
    "\n",
    "#Start Puzzle\n",
    "search = driver.find_element_by_xpath(\"//*[@id='container_left']/form/input[2]\")\n",
    "search.click()\n",
    "driver.implicitly_wait(10)\n",
    "\n",
    "#Extract number positions from puzzle\n"
   ]
  },
  {
   "cell_type": "code",
   "execution_count": 9,
   "metadata": {},
   "outputs": [
    {
     "name": "stdout",
     "output_type": "stream",
     "text": [
      "<selenium.webdriver.remote.webelement.WebElement (session=\"d5d7fa9a2d94c73446c56cd7629d8016\", element=\"9d379412-bbfc-490e-9d2b-b3b82ebd682c\")>\n",
      "0\n"
     ]
    }
   ],
   "source": [
    "square_xpath = \"//*[@id='container_left']/div/table[1]/tbody/tr[%d]/td[%d]\" %(1,1)\n",
    "square_path = driver.find_element_by_xpath(square_xpath)\n",
    "print(square_path)\n",
    "\n",
    "square_val = square_path.text\n",
    "print(square_val)"
   ]
  },
  {
   "cell_type": "code",
   "execution_count": 10,
   "metadata": {},
   "outputs": [
    {
     "name": "stdout",
     "output_type": "stream",
     "text": [
      "['0', '.', '.', '.', '.', '.', '.', '1', '2']\n",
      "['.', '.', '.', '.', '.', '.', '.', '.', '.']\n",
      "['.', '4', '.', '.', '4', '.', '.', '.', '.']\n",
      "['.', '.', '.', '.', '5', '.', '.', '.', '.']\n",
      "['.', '6', '.', '.', '.', '.', '.', '.', '.']\n",
      "['.', '.', '.', '5', '.', '1', '0', '.', '.']\n",
      "['.', '.', '2', '.', '.', '.', '.', '.', '.']\n",
      "['.', '.', '3', '.', '.', '.', '.', '3', '.']\n",
      "['.', '.', '6', '.', '.', '.', '.', '.', '.']\n"
     ]
    }
   ],
   "source": [
    "puzzle = []\n",
    "for row in range(puzzle_len[puzzle_size_choice]):\n",
    "    puzzle_row = []\n",
    "    for col in range(puzzle_len[puzzle_size_choice]):\n",
    "        square_xpath = \"//*[@id='container_left']/div/table[1]/tbody/tr[%d]/td[%d]\" %(row+1,col+1)\n",
    "        square = driver.find_element_by_xpath(square_xpath)\n",
    "        square_val = square.text\n",
    "        if square_val == '':\n",
    "            puzzle_row.append('.')\n",
    "        else:\n",
    "            puzzle_row.append(square_val)\n",
    "    puzzle.append(puzzle_row)\n",
    "        \n",
    "for row in puzzle:\n",
    "    print(row)\n",
    "        \n",
    "#puzzle_grid = \"//*[@id='container_left']/div/table[1]/tbody\"\n",
    "#puzzle_row = \"//*[@id='container_left']/div/table[1]/tbody/tr[2]\" #2nd row\n",
    "#puzzle_square = \"//*[@id='container_left']/div/table[1]/tbody/tr[1]/td[4]\" #1st row, 4th col"
   ]
  },
  {
   "cell_type": "code",
   "execution_count": 11,
   "metadata": {},
   "outputs": [
    {
     "data": {
      "text/plain": [
       "{9: 0, 10: 1, 11: 2, 12: 3, 13: 4, 14: 5, 15: 6}"
      ]
     },
     "execution_count": 11,
     "metadata": {},
     "output_type": "execute_result"
    }
   ],
   "source": [
    "puzzle_len = [9,10,11,12,13,14,15] #9x9, 10x10, 11x11, 12x12, 13,13, 14,14, 15x15\n",
    "puzzle_lengths = {}\n",
    "for i in range(len(puzzle_len)):\n",
    "    puzzle_lengths[9+i] = i\n",
    "puzzle_lengths"
   ]
  },
  {
   "cell_type": "code",
   "execution_count": 12,
   "metadata": {},
   "outputs": [
    {
     "data": {
      "text/plain": [
       "6"
      ]
     },
     "execution_count": 12,
     "metadata": {},
     "output_type": "execute_result"
    }
   ],
   "source": [
    "puzzle_size = 15\n",
    "#Create puzzle size dictionary\n",
    "puzzle_len = [9,10,11,12,13,14,15] #9x9, 10x10, 11x11, 12x12, 13,13, 14,14, 15x15\n",
    "puzzle_lengths = {}\n",
    "for i in range(len(puzzle_len)):\n",
    "    puzzle_lengths[9+i] = i\n",
    "puzzle_dims = puzzle_lengths[puzzle_size]\n",
    "puzzle_dims"
   ]
  },
  {
   "cell_type": "code",
   "execution_count": null,
   "metadata": {},
   "outputs": [],
   "source": []
  }
 ],
 "metadata": {
  "kernelspec": {
   "display_name": "Python 3",
   "language": "python",
   "name": "python3"
  },
  "language_info": {
   "codemirror_mode": {
    "name": "ipython",
    "version": 3
   },
   "file_extension": ".py",
   "mimetype": "text/x-python",
   "name": "python",
   "nbconvert_exporter": "python",
   "pygments_lexer": "ipython3",
   "version": "3.7.6"
  }
 },
 "nbformat": 4,
 "nbformat_minor": 4
}
